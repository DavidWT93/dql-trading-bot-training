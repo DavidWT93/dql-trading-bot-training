{
 "cells": [
  {
   "cell_type": "code",
   "execution_count": 3,
   "outputs": [],
   "source": [
    "from keras.models import load_model\n",
    "\n",
    "\n",
    "from sql_master import SQLHandling\n",
    "from DQL_model import DQLModel\n",
    "from dql_training import dQL_model_training\n",
    "from trading_environment import TradingEnvironment\n",
    "import config as conf\n",
    "import boto3\n",
    "import json\n",
    "import pandas as pd\n",
    "from helper_funktions import subplot_n_plots\n",
    "import numpy as np\n",
    "\n",
    "import time"
   ],
   "metadata": {
    "collapsed": false
   }
  },
  {
   "cell_type": "markdown",
   "source": [
    "This notebook is used to train dan test a dql model for stock market data. The model receives a state of the market and outputs a buy, sell or hold action."
   ],
   "metadata": {
    "collapsed": false
   }
  },
  {
   "cell_type": "markdown",
   "source": [
    "# Loading data\n",
    "\n",
    "Here the ML Model parameters which is currently deployed last 24 hours of stock data is loaded from the database. The data is used to optimize the model."
   ],
   "metadata": {
    "collapsed": false
   }
  },
  {
   "cell_type": "code",
   "execution_count": 4,
   "outputs": [],
   "source": [
    "# loading current in use model from the s3 bucket\n",
    "s3 = boto3.client('s3',\n",
    "                  aws_access_key_id=conf.AWS_S3_USER_ID,\n",
    "                  aws_secret_access_key=conf.AWS_S3_USER_PASSWORD)\n",
    "\n",
    "# downloading the curren model so the hyperparameters can be fine-tuned\n",
    "current_model = \"dql_model_v1.h5\"\n",
    "s3.download_file(conf.AWS_S3_ML_MODEL_BUCKET_NAME, f'current_model/{current_model}', current_model)\n",
    "\n",
    "# downloading the curren results of the evaluation scores of the current model\n",
    "# so that there is a baseline for seeing if the fine-tuned model is better than the\n",
    "# current one\n",
    "s3.download_file(conf.AWS_S3_ML_MODEL_BUCKET_NAME, f'best_model/best_evaluation_results.json', 'best_evaluation_results.json')\n",
    "with open('best_evaluation_results.json', 'r') as file:\n",
    "    currentEvaluationResults = json.load(file)\n",
    "\n",
    "\n",
    "# loading the stock data of the past 24 hours\n",
    "sh = SQLHandling(host=conf.AWS_RDS_HOST,\n",
    "                 user=conf.AWS_RDS_USER,\n",
    "                 password=conf.AWS_RDS_PASSWORD,\n",
    "                 port=int(conf.AWS_RDS_PORT),\n",
    "                 database=conf.AWS_RDS_DB)\n",
    "\n",
    "# we have data in minute intervalls: so 24*60/10 = 144\n",
    "BTC_USDTBars = sh.get_n_laste_entries_from_table_by_order_colum(\"auto_input1\",\"time_stamp\",144)\n",
    "\n",
    "trainingData = BTC_USDTBars.drop(columns=[\"close\",\"time_stamp\"])\n",
    "closePrice = BTC_USDTBars[[\"close\"]]"
   ],
   "metadata": {
    "collapsed": false
   }
  },
  {
   "cell_type": "markdown",
   "source": [
    "# initialing model parameters\n",
    "\n",
    "In this section, the model parameters required for model training are initialized."
   ],
   "metadata": {
    "collapsed": false
   }
  },
  {
   "cell_type": "code",
   "execution_count": 5,
   "outputs": [
    {
     "name": "stdout",
     "output_type": "stream",
     "text": [
      "Model: \"sequential_1\"\n",
      "_________________________________________________________________\n",
      " Layer (type)                Output Shape              Param #   \n",
      "=================================================================\n",
      " dense_1 (Dense)             (None, 30, 128)           640       \n",
      "                                                                 \n",
      " dense_2 (Dense)             (None, 30, 64)            8256      \n",
      "                                                                 \n",
      " dense_3 (Dense)             (None, 30, 32)            2080      \n",
      "                                                                 \n",
      " reshape (Reshape)           (None, 960)               0         \n",
      "                                                                 \n",
      " dense_4 (Dense)             (None, 2)                 1922      \n",
      "                                                                 \n",
      "=================================================================\n",
      "Total params: 12,898\n",
      "Trainable params: 12,898\n",
      "Non-trainable params: 0\n",
      "_________________________________________________________________\n"
     ]
    }
   ],
   "source": [
    "# curren time\n",
    "current_time = time.strftime(\"%Y-%m-%dT%H\", time.gmtime())\n",
    "saveRetrainedModelAs = f\"dql_model_v1_{current_time}\"\n",
    "\n",
    "windowSize = (30, trainingData.shape[1])\n",
    "episodes = 21\n",
    "batchSize = 60\n",
    "dataSamples = len(trainingData) - 1\n",
    "weights = current_model\n",
    "dqlModel = DQLModel(windowSize, loadWeights=weights)"
   ],
   "metadata": {
    "collapsed": false
   }
  },
  {
   "cell_type": "markdown",
   "source": [
    "# retraining the model"
   ],
   "metadata": {
    "collapsed": false
   }
  },
  {
   "cell_type": "code",
   "execution_count": 6,
   "outputs": [
    {
     "name": "stderr",
     "output_type": "stream",
     "text": [
      " 87%|████████▋ | 99/114 [00:12<00:01, 10.70it/s]"
     ]
    },
    {
     "name": "stdout",
     "output_type": "stream",
     "text": [
      "AI Trader bought at: close    26500.0\n",
      "Name: 128, dtype: float64\n",
      "1/1 [==============================] - 0s 38ms/step\n",
      "AI Trader bought at: close    26550.0\n",
      "Name: 129, dtype: float64\n",
      "1/1 [==============================] - 0s 40ms/step\n",
      "AI Trader bought at: close    26555.01\n",
      "Name: 130, dtype: float64\n",
      "EPISODE: 20\n",
      "batch train\n",
      "tradeSteps 3\n",
      "2/2 [==============================] - 0s 8ms/step\n",
      "2/2 [==============================] - 0s 12ms/step\n"
     ]
    },
    {
     "name": "stderr",
     "output_type": "stream",
     "text": [
      " 89%|████████▊ | 101/114 [00:13<00:02,  6.12it/s]"
     ]
    },
    {
     "name": "stdout",
     "output_type": "stream",
     "text": [
      "1/1 [==============================] - 0s 38ms/step\n",
      "AI Trader bought at: close    26555.01\n",
      "Name: 131, dtype: float64\n",
      "1/1 [==============================] - 0s 46ms/step\n"
     ]
    },
    {
     "name": "stderr",
     "output_type": "stream",
     "text": [
      " 90%|█████████ | 103/114 [00:13<00:01,  6.81it/s]"
     ]
    },
    {
     "name": "stdout",
     "output_type": "stream",
     "text": [
      "AI Trader bought at: close    26555.0\n",
      "Name: 132, dtype: float64\n",
      "1/1 [==============================] - 0s 43ms/step\n"
     ]
    },
    {
     "name": "stderr",
     "output_type": "stream",
     "text": [
      " 91%|█████████ | 104/114 [00:13<00:01,  7.13it/s]"
     ]
    },
    {
     "name": "stdout",
     "output_type": "stream",
     "text": [
      "AI Trader bought at: close    26500.22\n",
      "Name: 133, dtype: float64\n",
      "AI Trader sold at:  close    26621.33\n",
      "Name: 134, dtype: float64  Profit: 121.33\n",
      "#################################################\n",
      "total profit in episode 356.15\n",
      "#################################################\n",
      "1/1 [==============================] - 0s 43ms/step\n"
     ]
    },
    {
     "name": "stderr",
     "output_type": "stream",
     "text": [
      " 93%|█████████▎| 106/114 [00:13<00:00,  8.79it/s]"
     ]
    },
    {
     "name": "stdout",
     "output_type": "stream",
     "text": [
      "AI Trader bought at: close    26819.99\n",
      "Name: 135, dtype: float64\n",
      "1/1 [==============================] - 0s 40ms/step\n"
     ]
    },
    {
     "name": "stderr",
     "output_type": "stream",
     "text": [
      " 95%|█████████▍| 108/114 [00:13<00:00, 10.62it/s]"
     ]
    },
    {
     "name": "stdout",
     "output_type": "stream",
     "text": [
      "AI Trader sold at:  close    26884.62\n",
      "Name: 136, dtype: float64  Profit: 64.63\n",
      "#################################################\n",
      "total profit in episode 420.78\n",
      "#################################################\n",
      "AI Trader bought at: close    26916.85\n",
      "Name: 137, dtype: float64\n",
      "1/1 [==============================] - 0s 34ms/step\n",
      "AI Trader bought at: close    26899.0\n",
      "Name: 138, dtype: float64\n",
      "1/1 [==============================] - 0s 34ms/step\n"
     ]
    },
    {
     "name": "stderr",
     "output_type": "stream",
     "text": [
      " 96%|█████████▋| 110/114 [00:13<00:00, 10.50it/s]"
     ]
    },
    {
     "name": "stdout",
     "output_type": "stream",
     "text": [
      "AI Trader bought at: close    26923.45\n",
      "Name: 139, dtype: float64\n"
     ]
    },
    {
     "name": "stderr",
     "output_type": "stream",
     "text": [
      " 96%|█████████▋| 110/114 [00:13<00:00,  7.97it/s]\n"
     ]
    },
    {
     "name": "stdout",
     "output_type": "stream",
     "text": [
      "Episode: 21/21\n"
     ]
    },
    {
     "name": "stderr",
     "output_type": "stream",
     "text": [
      "  0%|          | 0/114 [00:00<?, ?it/s]"
     ]
    },
    {
     "name": "stdout",
     "output_type": "stream",
     "text": [
      "1/1 [==============================] - 0s 33ms/step\n",
      "EPISODE: 21\n",
      "batch train\n",
      "tradeSteps 0\n",
      "2/2 [==============================] - 0s 19ms/step\n",
      "2/2 [==============================] - 0s 12ms/step\n"
     ]
    },
    {
     "name": "stderr",
     "output_type": "stream",
     "text": [
      "  1%|          | 1/114 [00:00<01:19,  1.43it/s]"
     ]
    },
    {
     "name": "stdout",
     "output_type": "stream",
     "text": [
      "1/1 [==============================] - 0s 56ms/step\n"
     ]
    },
    {
     "name": "stderr",
     "output_type": "stream",
     "text": [
      "  2%|▏         | 2/114 [00:00<00:40,  2.77it/s]"
     ]
    },
    {
     "name": "stdout",
     "output_type": "stream",
     "text": [
      "AI Trader bought at: close    26600.12\n",
      "Name: 31, dtype: float64\n",
      "1/1 [==============================] - 0s 42ms/step\n"
     ]
    },
    {
     "name": "stderr",
     "output_type": "stream",
     "text": [
      "  3%|▎         | 3/114 [00:00<00:27,  4.03it/s]"
     ]
    },
    {
     "name": "stdout",
     "output_type": "stream",
     "text": [
      "AI Trader bought at: close    26582.26\n",
      "Name: 32, dtype: float64\n",
      "1/1 [==============================] - 0s 43ms/step\n"
     ]
    },
    {
     "name": "stderr",
     "output_type": "stream",
     "text": [
      "  4%|▎         | 4/114 [00:01<00:21,  5.12it/s]"
     ]
    },
    {
     "name": "stdout",
     "output_type": "stream",
     "text": [
      "AI Trader bought at: close    26572.37\n",
      "Name: 33, dtype: float64\n",
      "AI Trader sold at:  close    26600.0\n",
      "Name: 34, dtype: float64  Profit: -0.12\n",
      "#################################################\n",
      "total profit in episode -0.12\n",
      "#################################################\n",
      "AI Trader bought at: close    26647.43\n",
      "Name: 36, dtype: float64\n",
      "1/1 [==============================] - 0s 43ms/step\n"
     ]
    },
    {
     "name": "stderr",
     "output_type": "stream",
     "text": [
      "  7%|▋         | 8/114 [00:01<00:08, 12.65it/s]"
     ]
    },
    {
     "name": "stdout",
     "output_type": "stream",
     "text": [
      "AI Trader sold at:  close    26638.06\n",
      "Name: 37, dtype: float64  Profit: -9.37\n",
      "#################################################\n",
      "total profit in episode -9.49\n",
      "#################################################\n",
      "1/1 [==============================] - 0s 39ms/step\n"
     ]
    },
    {
     "name": "stderr",
     "output_type": "stream",
     "text": [
      "  9%|▉         | 10/114 [00:01<00:08, 12.77it/s]"
     ]
    },
    {
     "name": "stdout",
     "output_type": "stream",
     "text": [
      "AI Trader bought at: close    26610.0\n",
      "Name: 39, dtype: float64\n",
      "AI Trader bought at: close    26610.23\n",
      "Name: 40, dtype: float64\n",
      "EPISODE: 21\n",
      "batch train\n",
      "tradeSteps 2\n",
      "2/2 [==============================] - 0s 6ms/step\n",
      "2/2 [==============================] - 0s 7ms/step\n",
      "1/1 [==============================] - 0s 55ms/step\n"
     ]
    },
    {
     "name": "stderr",
     "output_type": "stream",
     "text": [
      " 11%|█         | 12/114 [00:01<00:14,  6.95it/s]"
     ]
    },
    {
     "name": "stdout",
     "output_type": "stream",
     "text": [
      "AI Trader bought at: close    26588.22\n",
      "Name: 41, dtype: float64\n",
      "1/1 [==============================] - 0s 44ms/step\n"
     ]
    },
    {
     "name": "stderr",
     "output_type": "stream",
     "text": [
      " 12%|█▏        | 14/114 [00:01<00:11,  8.70it/s]"
     ]
    },
    {
     "name": "stdout",
     "output_type": "stream",
     "text": [
      "AI Trader sold at:  close    26587.58\n",
      "Name: 42, dtype: float64  Profit: -22.42\n",
      "#################################################\n",
      "total profit in episode -31.91\n",
      "#################################################\n",
      "AI Trader bought at: close    26612.69\n",
      "Name: 43, dtype: float64\n",
      "1/1 [==============================] - 0s 34ms/step\n",
      "AI Trader bought at: close    26603.62\n",
      "Name: 44, dtype: float64\n",
      "1/1 [==============================] - 0s 30ms/step\n"
     ]
    },
    {
     "name": "stderr",
     "output_type": "stream",
     "text": [
      " 14%|█▍        | 16/114 [00:02<00:11,  8.19it/s]"
     ]
    },
    {
     "name": "stdout",
     "output_type": "stream",
     "text": [
      "AI Trader bought at: close    26586.7\n",
      "Name: 45, dtype: float64\n",
      "1/1 [==============================] - 0s 28ms/step\n",
      "AI Trader bought at: close    26623.25\n",
      "Name: 46, dtype: float64\n",
      "1/1 [==============================] - 0s 52ms/step\n"
     ]
    },
    {
     "name": "stderr",
     "output_type": "stream",
     "text": [
      " 16%|█▌        | 18/114 [00:02<00:11,  8.41it/s]"
     ]
    },
    {
     "name": "stdout",
     "output_type": "stream",
     "text": [
      "AI Trader bought at: close    26700.0\n",
      "Name: 47, dtype: float64\n",
      "1/1 [==============================] - 0s 60ms/step\n",
      "AI Trader bought at: close    26731.04\n",
      "Name: 48, dtype: float64\n",
      "AI Trader sold at:  close    26768.0\n",
      "Name: 49, dtype: float64  Profit: 155.31\n",
      "#################################################\n",
      "total profit in episode 123.4\n",
      "#################################################\n"
     ]
    },
    {
     "name": "stderr",
     "output_type": "stream",
     "text": [
      " 18%|█▊        | 20/114 [00:02<00:10,  9.39it/s]"
     ]
    },
    {
     "name": "stdout",
     "output_type": "stream",
     "text": [
      "1/1 [==============================] - 0s 53ms/step\n",
      "AI Trader bought at: close    26720.0\n",
      "Name: 50, dtype: float64\n",
      "EPISODE: 21\n",
      "batch train\n",
      "tradeSteps 1\n",
      "2/2 [==============================] - 0s 9ms/step\n",
      "2/2 [==============================] - 0s 9ms/step\n",
      "1/1 [==============================] - 0s 32ms/step\n"
     ]
    },
    {
     "name": "stderr",
     "output_type": "stream",
     "text": [
      " 19%|█▉        | 22/114 [00:03<00:16,  5.49it/s]"
     ]
    },
    {
     "name": "stdout",
     "output_type": "stream",
     "text": [
      "AI Trader bought at: close    26753.72\n",
      "Name: 51, dtype: float64\n",
      "AI Trader sold at:  close    26846.0\n",
      "Name: 52, dtype: float64  Profit: 126.0\n",
      "#################################################\n",
      "total profit in episode 249.4\n",
      "#################################################\n",
      "AI Trader bought at: close    26900.81\n",
      "Name: 53, dtype: float64\n",
      "1/1 [==============================] - 0s 39ms/step\n"
     ]
    },
    {
     "name": "stderr",
     "output_type": "stream",
     "text": [
      " 22%|██▏       | 25/114 [00:03<00:11,  7.84it/s]"
     ]
    },
    {
     "name": "stdout",
     "output_type": "stream",
     "text": [
      "AI Trader sold at:  close    26825.0\n",
      "Name: 54, dtype: float64  Profit: -75.81\n",
      "#################################################\n",
      "total profit in episode 173.59\n",
      "#################################################\n",
      "AI Trader bought at: close    26831.0\n",
      "Name: 56, dtype: float64\n",
      "1/1 [==============================] - 0s 42ms/step\n"
     ]
    },
    {
     "name": "stderr",
     "output_type": "stream",
     "text": [
      " 25%|██▍       | 28/114 [00:03<00:08, 10.35it/s]"
     ]
    },
    {
     "name": "stdout",
     "output_type": "stream",
     "text": [
      "AI Trader sold at:  close    26767.62\n",
      "Name: 57, dtype: float64  Profit: -63.38\n",
      "#################################################\n",
      "total profit in episode 110.21\n",
      "#################################################\n",
      "1/1 [==============================] - 0s 37ms/step\n",
      "AI Trader bought at: close    26735.94\n",
      "Name: 58, dtype: float64\n",
      "1/1 [==============================] - 0s 38ms/step\n"
     ]
    },
    {
     "name": "stderr",
     "output_type": "stream",
     "text": [
      " 26%|██▋       | 30/114 [00:03<00:08,  9.84it/s]"
     ]
    },
    {
     "name": "stdout",
     "output_type": "stream",
     "text": [
      "AI Trader bought at: close    26685.52\n",
      "Name: 59, dtype: float64\n",
      "AI Trader bought at: close    26682.0\n",
      "Name: 60, dtype: float64\n",
      "EPISODE: 21\n",
      "batch train\n",
      "tradeSteps 3\n",
      "2/2 [==============================] - 0s 8ms/step\n",
      "2/2 [==============================] - 0s 11ms/step\n",
      "1/1 [==============================] - 0s 60ms/step\n"
     ]
    },
    {
     "name": "stderr",
     "output_type": "stream",
     "text": [
      " 28%|██▊       | 32/114 [00:04<00:14,  5.81it/s]"
     ]
    },
    {
     "name": "stdout",
     "output_type": "stream",
     "text": [
      "AI Trader sold at:  close    26710.0\n",
      "Name: 61, dtype: float64  Profit: -25.94\n",
      "#################################################\n",
      "total profit in episode 84.27\n",
      "#################################################\n",
      "1/1 [==============================] - 0s 67ms/step\n"
     ]
    },
    {
     "name": "stderr",
     "output_type": "stream",
     "text": [
      " 30%|██▉       | 34/114 [00:04<00:11,  6.79it/s]"
     ]
    },
    {
     "name": "stdout",
     "output_type": "stream",
     "text": [
      "1/1 [==============================] - 0s 47ms/step\n",
      "1/1 [==============================] - 0s 31ms/step\n"
     ]
    },
    {
     "name": "stderr",
     "output_type": "stream",
     "text": [
      " 32%|███▏      | 36/114 [00:04<00:10,  7.52it/s]"
     ]
    },
    {
     "name": "stdout",
     "output_type": "stream",
     "text": [
      "1/1 [==============================] - 0s 40ms/step\n",
      "1/1 [==============================] - 0s 35ms/step\n"
     ]
    },
    {
     "name": "stderr",
     "output_type": "stream",
     "text": [
      " 33%|███▎      | 38/114 [00:05<00:09,  8.06it/s]"
     ]
    },
    {
     "name": "stdout",
     "output_type": "stream",
     "text": [
      "1/1 [==============================] - 0s 29ms/step\n",
      "AI Trader bought at: close    26593.84\n",
      "Name: 68, dtype: float64\n",
      "1/1 [==============================] - 0s 40ms/step\n"
     ]
    },
    {
     "name": "stderr",
     "output_type": "stream",
     "text": [
      " 35%|███▌      | 40/114 [00:05<00:08,  8.56it/s]"
     ]
    },
    {
     "name": "stdout",
     "output_type": "stream",
     "text": [
      "AI Trader bought at: close    26551.22\n",
      "Name: 69, dtype: float64\n",
      "1/1 [==============================] - 0s 44ms/step\n",
      "AI Trader bought at: close    26536.87\n",
      "Name: 70, dtype: float64\n",
      "EPISODE: 21\n",
      "batch train\n",
      "tradeSteps 3\n",
      "2/2 [==============================] - 0s 17ms/step\n",
      "2/2 [==============================] - 0s 7ms/step\n",
      "1/1 [==============================] - 0s 55ms/step\n"
     ]
    },
    {
     "name": "stderr",
     "output_type": "stream",
     "text": [
      " 37%|███▋      | 42/114 [00:06<00:14,  5.01it/s]"
     ]
    },
    {
     "name": "stdout",
     "output_type": "stream",
     "text": [
      "AI Trader bought at: close    26543.99\n",
      "Name: 71, dtype: float64\n",
      "1/1 [==============================] - 0s 73ms/step\n"
     ]
    },
    {
     "name": "stderr",
     "output_type": "stream",
     "text": [
      " 38%|███▊      | 43/114 [00:06<00:13,  5.16it/s]"
     ]
    },
    {
     "name": "stdout",
     "output_type": "stream",
     "text": [
      "AI Trader bought at: close    26539.19\n",
      "Name: 72, dtype: float64\n",
      "1/1 [==============================] - 0s 46ms/step\n"
     ]
    },
    {
     "name": "stderr",
     "output_type": "stream",
     "text": [
      " 39%|███▊      | 44/114 [00:06<00:12,  5.44it/s]"
     ]
    },
    {
     "name": "stdout",
     "output_type": "stream",
     "text": [
      "AI Trader sold at:  close    26569.91\n",
      "Name: 73, dtype: float64  Profit: -23.93\n",
      "#################################################\n",
      "total profit in episode 60.34\n",
      "#################################################\n",
      "1/1 [==============================] - 0s 39ms/step\n"
     ]
    },
    {
     "name": "stderr",
     "output_type": "stream",
     "text": [
      " 39%|███▉      | 45/114 [00:06<00:11,  5.96it/s]"
     ]
    },
    {
     "name": "stdout",
     "output_type": "stream",
     "text": [
      "1/1 [==============================] - 0s 41ms/step\n"
     ]
    },
    {
     "name": "stderr",
     "output_type": "stream",
     "text": [
      " 40%|████      | 46/114 [00:06<00:10,  6.50it/s]"
     ]
    },
    {
     "name": "stdout",
     "output_type": "stream",
     "text": [
      "1/1 [==============================] - 0s 46ms/step\n"
     ]
    },
    {
     "name": "stderr",
     "output_type": "stream",
     "text": [
      " 41%|████      | 47/114 [00:06<00:09,  7.01it/s]"
     ]
    },
    {
     "name": "stdout",
     "output_type": "stream",
     "text": [
      "AI Trader bought at: close    26539.99\n",
      "Name: 76, dtype: float64\n",
      "AI Trader sold at:  close    26512.0\n",
      "Name: 77, dtype: float64  Profit: -27.99\n",
      "#################################################\n",
      "total profit in episode 32.35\n",
      "#################################################\n",
      "1/1 [==============================] - 0s 42ms/step\n"
     ]
    },
    {
     "name": "stderr",
     "output_type": "stream",
     "text": [
      " 43%|████▎     | 49/114 [00:06<00:06,  9.30it/s]"
     ]
    },
    {
     "name": "stdout",
     "output_type": "stream",
     "text": [
      "AI Trader bought at: close    26510.0\n",
      "Name: 78, dtype: float64\n",
      "AI Trader bought at: close    26564.51\n",
      "Name: 79, dtype: float64\n",
      "1/1 [==============================] - 0s 35ms/step\n",
      "AI Trader bought at: close    26566.34\n",
      "Name: 80, dtype: float64\n",
      "EPISODE: 21\n",
      "batch train\n",
      "tradeSteps 3\n",
      "2/2 [==============================] - 0s 6ms/step\n",
      "2/2 [==============================] - 0s 8ms/step\n"
     ]
    },
    {
     "name": "stderr",
     "output_type": "stream",
     "text": [
      " 45%|████▍     | 51/114 [00:07<00:10,  6.06it/s]"
     ]
    },
    {
     "name": "stdout",
     "output_type": "stream",
     "text": [
      "1/1 [==============================] - 0s 62ms/step\n"
     ]
    },
    {
     "name": "stderr",
     "output_type": "stream",
     "text": [
      " 46%|████▌     | 52/114 [00:07<00:09,  6.24it/s]"
     ]
    },
    {
     "name": "stdout",
     "output_type": "stream",
     "text": [
      "AI Trader bought at: close    26542.65\n",
      "Name: 81, dtype: float64\n",
      "1/1 [==============================] - 0s 59ms/step\n"
     ]
    },
    {
     "name": "stderr",
     "output_type": "stream",
     "text": [
      " 46%|████▋     | 53/114 [00:07<00:09,  6.33it/s]"
     ]
    },
    {
     "name": "stdout",
     "output_type": "stream",
     "text": [
      "AI Trader bought at: close    26575.0\n",
      "Name: 82, dtype: float64\n",
      "1/1 [==============================] - 0s 75ms/step\n",
      "AI Trader sold at:  close    26629.86\n",
      "Name: 83, dtype: float64  Profit: 119.86\n",
      "#################################################\n",
      "total profit in episode 152.21\n",
      "#################################################\n"
     ]
    },
    {
     "name": "stderr",
     "output_type": "stream",
     "text": [
      " 47%|████▋     | 54/114 [00:07<00:09,  6.15it/s]"
     ]
    },
    {
     "name": "stdout",
     "output_type": "stream",
     "text": [
      "1/1 [==============================] - 0s 46ms/step\n"
     ]
    },
    {
     "name": "stderr",
     "output_type": "stream",
     "text": [
      " 48%|████▊     | 55/114 [00:07<00:08,  6.66it/s]"
     ]
    },
    {
     "name": "stdout",
     "output_type": "stream",
     "text": [
      "1/1 [==============================] - 0s 73ms/step\n"
     ]
    },
    {
     "name": "stderr",
     "output_type": "stream",
     "text": [
      " 50%|█████     | 57/114 [00:08<00:06,  8.23it/s]"
     ]
    },
    {
     "name": "stdout",
     "output_type": "stream",
     "text": [
      "1/1 [==============================] - 0s 43ms/step\n"
     ]
    },
    {
     "name": "stderr",
     "output_type": "stream",
     "text": [
      " 51%|█████     | 58/114 [00:08<00:06,  8.37it/s]"
     ]
    },
    {
     "name": "stdout",
     "output_type": "stream",
     "text": [
      "1/1 [==============================] - 0s 39ms/step\n"
     ]
    },
    {
     "name": "stderr",
     "output_type": "stream",
     "text": [
      " 52%|█████▏    | 59/114 [00:08<00:06,  8.60it/s]"
     ]
    },
    {
     "name": "stdout",
     "output_type": "stream",
     "text": [
      "1/1 [==============================] - 0s 76ms/step\n"
     ]
    },
    {
     "name": "stderr",
     "output_type": "stream",
     "text": [
      " 53%|█████▎    | 60/114 [00:08<00:06,  8.11it/s]"
     ]
    },
    {
     "name": "stdout",
     "output_type": "stream",
     "text": [
      "EPISODE: 21\n",
      "batch train\n",
      "tradeSteps 0\n",
      "2/2 [==============================] - 0s 7ms/step\n",
      "2/2 [==============================] - 0s 8ms/step\n"
     ]
    },
    {
     "name": "stderr",
     "output_type": "stream",
     "text": [
      " 54%|█████▎    | 61/114 [00:08<00:10,  4.88it/s]"
     ]
    },
    {
     "name": "stdout",
     "output_type": "stream",
     "text": [
      "AI Trader bought at: close    26469.03\n",
      "Name: 91, dtype: float64\n",
      "1/1 [==============================] - 0s 45ms/step\n"
     ]
    },
    {
     "name": "stderr",
     "output_type": "stream",
     "text": [
      " 55%|█████▌    | 63/114 [00:09<00:07,  7.13it/s]"
     ]
    },
    {
     "name": "stdout",
     "output_type": "stream",
     "text": [
      "AI Trader sold at:  close    26468.76\n",
      "Name: 92, dtype: float64  Profit: -0.27\n",
      "#################################################\n",
      "total profit in episode 151.94\n",
      "#################################################\n",
      "1/1 [==============================] - 0s 52ms/step\n"
     ]
    },
    {
     "name": "stderr",
     "output_type": "stream",
     "text": [
      " 56%|█████▌    | 64/114 [00:09<00:06,  7.34it/s]"
     ]
    },
    {
     "name": "stdout",
     "output_type": "stream",
     "text": [
      "1/1 [==============================] - 0s 41ms/step\n"
     ]
    },
    {
     "name": "stderr",
     "output_type": "stream",
     "text": [
      " 57%|█████▋    | 65/114 [00:09<00:06,  7.84it/s]"
     ]
    },
    {
     "name": "stdout",
     "output_type": "stream",
     "text": [
      "1/1 [==============================] - 0s 57ms/step\n"
     ]
    },
    {
     "name": "stderr",
     "output_type": "stream",
     "text": [
      " 59%|█████▉    | 67/114 [00:09<00:05,  9.27it/s]"
     ]
    },
    {
     "name": "stdout",
     "output_type": "stream",
     "text": [
      "1/1 [==============================] - 0s 61ms/step\n"
     ]
    },
    {
     "name": "stderr",
     "output_type": "stream",
     "text": [
      " 61%|██████▏   | 70/114 [00:09<00:03, 12.01it/s]"
     ]
    },
    {
     "name": "stdout",
     "output_type": "stream",
     "text": [
      "AI Trader bought at: close    26480.75\n",
      "Name: 99, dtype: float64\n",
      "1/1 [==============================] - 0s 41ms/step\n",
      "AI Trader bought at: close    26474.06\n",
      "Name: 100, dtype: float64\n",
      "EPISODE: 21\n",
      "batch train\n",
      "tradeSteps 2\n",
      "2/2 [==============================] - 0s 9ms/step\n",
      "2/2 [==============================] - 0s 19ms/step\n"
     ]
    },
    {
     "name": "stderr",
     "output_type": "stream",
     "text": [
      " 63%|██████▎   | 72/114 [00:10<00:06,  6.20it/s]"
     ]
    },
    {
     "name": "stdout",
     "output_type": "stream",
     "text": [
      "AI Trader sold at:  close    26488.05\n",
      "Name: 101, dtype: float64  Profit: 7.3\n",
      "#################################################\n",
      "total profit in episode 159.24\n",
      "#################################################\n",
      "1/1 [==============================] - 0s 28ms/step\n",
      "AI Trader bought at: close    26470.89\n",
      "Name: 102, dtype: float64\n",
      "AI Trader sold at:  close    26491.24\n",
      "Name: 103, dtype: float64  Profit: 20.35\n",
      "#################################################\n",
      "total profit in episode 179.59\n",
      "#################################################\n",
      "AI Trader bought at: close    26497.23\n",
      "Name: 104, dtype: float64\n",
      "1/1 [==============================] - 0s 49ms/step\n"
     ]
    },
    {
     "name": "stderr",
     "output_type": "stream",
     "text": [
      " 67%|██████▋   | 76/114 [00:10<00:04,  9.35it/s]"
     ]
    },
    {
     "name": "stdout",
     "output_type": "stream",
     "text": [
      "AI Trader bought at: close    26520.0\n",
      "Name: 105, dtype: float64\n",
      "1/1 [==============================] - 0s 48ms/step\n",
      "AI Trader sold at:  close    26570.25\n",
      "Name: 106, dtype: float64  Profit: 73.02\n",
      "#################################################\n",
      "total profit in episode 252.61\n",
      "#################################################\n",
      "1/1 [==============================] - 0s 49ms/step\n"
     ]
    },
    {
     "name": "stderr",
     "output_type": "stream",
     "text": [
      " 68%|██████▊   | 78/114 [00:10<00:04,  8.87it/s]"
     ]
    },
    {
     "name": "stdout",
     "output_type": "stream",
     "text": [
      "1/1 [==============================] - 0s 50ms/step\n",
      "1/1 [==============================] - 0s 43ms/step\n"
     ]
    },
    {
     "name": "stderr",
     "output_type": "stream",
     "text": [
      " 70%|███████   | 80/114 [00:10<00:03,  8.67it/s]"
     ]
    },
    {
     "name": "stdout",
     "output_type": "stream",
     "text": [
      "1/1 [==============================] - 0s 36ms/step\n",
      "EPISODE: 21\n",
      "batch train\n",
      "tradeSteps 0\n",
      "2/2 [==============================] - 0s 11ms/step\n",
      "2/2 [==============================] - 0s 23ms/step\n",
      "1/1 [==============================] - 0s 51ms/step\n"
     ]
    },
    {
     "name": "stderr",
     "output_type": "stream",
     "text": [
      " 72%|███████▏  | 82/114 [00:11<00:06,  5.04it/s]"
     ]
    },
    {
     "name": "stdout",
     "output_type": "stream",
     "text": [
      "AI Trader bought at: close    26486.16\n",
      "Name: 111, dtype: float64\n",
      "1/1 [==============================] - 0s 45ms/step\n"
     ]
    },
    {
     "name": "stderr",
     "output_type": "stream",
     "text": [
      " 73%|███████▎  | 83/114 [00:11<00:05,  5.40it/s]"
     ]
    },
    {
     "name": "stdout",
     "output_type": "stream",
     "text": [
      "AI Trader bought at: close    26469.99\n",
      "Name: 112, dtype: float64\n",
      "1/1 [==============================] - 0s 30ms/step\n",
      "AI Trader bought at: close    26498.78\n",
      "Name: 113, dtype: float64\n",
      "1/1 [==============================] - 0s 43ms/step\n"
     ]
    },
    {
     "name": "stderr",
     "output_type": "stream",
     "text": [
      " 75%|███████▍  | 85/114 [00:12<00:04,  6.26it/s]"
     ]
    },
    {
     "name": "stdout",
     "output_type": "stream",
     "text": [
      "AI Trader bought at: close    26424.0\n",
      "Name: 114, dtype: float64\n",
      "1/1 [==============================] - 0s 41ms/step\n"
     ]
    },
    {
     "name": "stderr",
     "output_type": "stream",
     "text": [
      " 75%|███████▌  | 86/114 [00:12<00:04,  6.63it/s]"
     ]
    },
    {
     "name": "stdout",
     "output_type": "stream",
     "text": [
      "AI Trader bought at: close    26496.94\n",
      "Name: 115, dtype: float64\n",
      "1/1 [==============================] - 0s 47ms/step\n"
     ]
    },
    {
     "name": "stderr",
     "output_type": "stream",
     "text": [
      " 76%|███████▋  | 87/114 [00:12<00:03,  6.92it/s]"
     ]
    },
    {
     "name": "stdout",
     "output_type": "stream",
     "text": [
      "AI Trader bought at: close    26518.47\n",
      "Name: 116, dtype: float64\n",
      "1/1 [==============================] - 0s 40ms/step\n"
     ]
    },
    {
     "name": "stderr",
     "output_type": "stream",
     "text": [
      " 77%|███████▋  | 88/114 [00:12<00:03,  7.35it/s]"
     ]
    },
    {
     "name": "stdout",
     "output_type": "stream",
     "text": [
      "AI Trader bought at: close    26579.99\n",
      "Name: 117, dtype: float64\n",
      "AI Trader sold at:  close    26641.88\n",
      "Name: 118, dtype: float64  Profit: 155.72\n",
      "#################################################\n",
      "total profit in episode 408.33\n",
      "#################################################\n",
      "1/1 [==============================] - 0s 32ms/step\n"
     ]
    },
    {
     "name": "stderr",
     "output_type": "stream",
     "text": [
      " 79%|███████▉  | 90/114 [00:12<00:02,  9.36it/s]"
     ]
    },
    {
     "name": "stdout",
     "output_type": "stream",
     "text": [
      "AI Trader bought at: close    26649.8\n",
      "Name: 119, dtype: float64\n",
      "AI Trader bought at: close    26650.0\n",
      "Name: 120, dtype: float64\n",
      "EPISODE: 21\n",
      "batch train\n",
      "tradeSteps 2\n",
      "2/2 [==============================] - 0s 7ms/step\n",
      "2/2 [==============================] - 0s 7ms/step\n"
     ]
    },
    {
     "name": "stderr",
     "output_type": "stream",
     "text": [
      " 81%|████████  | 92/114 [00:13<00:03,  7.09it/s]"
     ]
    },
    {
     "name": "stdout",
     "output_type": "stream",
     "text": [
      "AI Trader sold at:  close    26718.38\n",
      "Name: 121, dtype: float64  Profit: 68.58\n",
      "#################################################\n",
      "total profit in episode 476.91\n",
      "#################################################\n",
      "1/1 [==============================] - 0s 51ms/step\n"
     ]
    },
    {
     "name": "stderr",
     "output_type": "stream",
     "text": [
      " 82%|████████▏ | 94/114 [00:13<00:02,  8.56it/s]"
     ]
    },
    {
     "name": "stdout",
     "output_type": "stream",
     "text": [
      "1/1 [==============================] - 0s 63ms/step\n",
      "1/1 [==============================] - 0s 61ms/step\n"
     ]
    },
    {
     "name": "stderr",
     "output_type": "stream",
     "text": [
      " 84%|████████▍ | 96/114 [00:13<00:02,  7.90it/s]"
     ]
    },
    {
     "name": "stdout",
     "output_type": "stream",
     "text": [
      "1/1 [==============================] - 0s 35ms/step\n"
     ]
    },
    {
     "name": "stderr",
     "output_type": "stream",
     "text": [
      " 85%|████████▌ | 97/114 [00:13<00:02,  7.43it/s]"
     ]
    },
    {
     "name": "stdout",
     "output_type": "stream",
     "text": [
      "1/1 [==============================] - 0s 30ms/step\n",
      "AI Trader bought at: close    26549.97\n",
      "Name: 127, dtype: float64\n",
      "AI Trader bought at: close    26500.0\n",
      "Name: 128, dtype: float64\n",
      "1/1 [==============================] - 0s 32ms/step\n"
     ]
    },
    {
     "name": "stderr",
     "output_type": "stream",
     "text": [
      " 88%|████████▊ | 100/114 [00:13<00:01, 10.14it/s]"
     ]
    },
    {
     "name": "stdout",
     "output_type": "stream",
     "text": [
      "AI Trader bought at: close    26550.0\n",
      "Name: 129, dtype: float64\n",
      "1/1 [==============================] - 0s 76ms/step\n",
      "AI Trader bought at: close    26555.01\n",
      "Name: 130, dtype: float64\n",
      "EPISODE: 21\n",
      "batch train\n",
      "tradeSteps 4\n",
      "2/2 [==============================] - 0s 11ms/step\n",
      "2/2 [==============================] - 0s 8ms/step\n",
      "AI Trader bought at: close    26555.01\n",
      "Name: 131, dtype: float64"
     ]
    },
    {
     "name": "stderr",
     "output_type": "stream",
     "text": [
      " 89%|████████▉ | 102/114 [00:14<00:01,  6.73it/s]"
     ]
    },
    {
     "name": "stdout",
     "output_type": "stream",
     "text": [
      "\n",
      "AI Trader bought at: close    26555.0\n",
      "Name: 132, dtype: float64\n",
      "AI Trader bought at: close    26500.22\n",
      "Name: 133, dtype: float64\n",
      "1/1 [==============================] - 0s 43ms/step\n"
     ]
    },
    {
     "name": "stderr",
     "output_type": "stream",
     "text": [
      " 92%|█████████▏| 105/114 [00:14<00:00,  9.42it/s]"
     ]
    },
    {
     "name": "stdout",
     "output_type": "stream",
     "text": [
      "AI Trader bought at: close    26621.33\n",
      "Name: 134, dtype: float64\n",
      "1/1 [==============================] - 0s 46ms/step\n"
     ]
    },
    {
     "name": "stderr",
     "output_type": "stream",
     "text": [
      " 94%|█████████▍| 107/114 [00:14<00:00, 10.73it/s]"
     ]
    },
    {
     "name": "stdout",
     "output_type": "stream",
     "text": [
      "AI Trader bought at: close    26819.99\n",
      "Name: 135, dtype: float64\n",
      "AI Trader bought at: close    26884.62\n",
      "Name: 136, dtype: float64\n",
      "1/1 [==============================] - 0s 49ms/step\n",
      "AI Trader bought at: close    26916.85\n",
      "Name: 137, dtype: float64\n",
      "1/1 [==============================] - 0s 43ms/step\n"
     ]
    },
    {
     "name": "stderr",
     "output_type": "stream",
     "text": [
      " 96%|█████████▌| 109/114 [00:14<00:00,  9.72it/s]"
     ]
    },
    {
     "name": "stdout",
     "output_type": "stream",
     "text": [
      "AI Trader bought at: close    26899.0\n",
      "Name: 138, dtype: float64\n",
      "1/1 [==============================] - 0s 43ms/step\n"
     ]
    },
    {
     "name": "stderr",
     "output_type": "stream",
     "text": [
      " 96%|█████████▋| 110/114 [00:14<00:00,  7.39it/s]"
     ]
    },
    {
     "name": "stdout",
     "output_type": "stream",
     "text": [
      "AI Trader bought at: close    26923.45\n",
      "Name: 139, dtype: float64\n"
     ]
    },
    {
     "name": "stderr",
     "output_type": "stream",
     "text": [
      "\n"
     ]
    }
   ],
   "source": [
    "retrainedModelName = dQL_model_training(windowSize, episodes, batchSize, dataSamples, dqlModel, trainingData, closePrice,TradingEnvironment,saveEachXEpisode=4,stepsBeforeTraining=10,saveModelParamsAs=saveRetrainedModelAs)"
   ],
   "metadata": {
    "collapsed": false
   }
  },
  {
   "cell_type": "markdown",
   "source": [
    "Model Evaluation\n",
    "In this section, the results obtained from the model training are visualized and analyzed. The evaluation focuses on specific labels, namely \"trades\" and \"totalProfit\"."
   ],
   "metadata": {
    "collapsed": false
   }
  },
  {
   "cell_type": "code",
   "execution_count": 7,
   "outputs": [
    {
     "data": {
      "text/plain": "<Figure size 640x480 with 2 Axes>",
      "image/png": "[encoded data removed]"
     },
     "metadata": {},
     "output_type": "display_data"
    }
   ],
   "source": [
    "with open('trader_stats_episode_4_model_v1.json', 'r') as file:\n",
    "    traderStats = json.load(file)\n",
    "\n",
    "timeForPlot = range(len(trainingData))\n",
    "\n",
    "# after n episodes the results are plotted\n",
    "subplot_n_plots(range(len(traderStats[\"trades\"])), [entry['trade_profit'] for entry in traderStats[\"trades\"]],\n",
    "            [entry['total_profit'] for entry in traderStats[\"trades\"]],\n",
    "            labels=[\"trades\", \"totalProfit\"])"
   ],
   "metadata": {
    "collapsed": false
   }
  },
  {
   "cell_type": "code",
   "execution_count": 8,
   "outputs": [
    {
     "data": {
      "text/plain": "<Figure size 640x480 with 2 Axes>",
      "image/png": "[encoded data removed]"
     },
     "metadata": {},
     "output_type": "display_data"
    }
   ],
   "source": [
    "with open('trader_stats_episode_20_model_v1.json', 'r') as file:\n",
    "    traderStats = json.load(file)\n",
    "\n",
    "timeForPlot = range(len(trainingData))\n",
    "\n",
    "# after n episodes the results are plotted\n",
    "subplot_n_plots(range(len(traderStats[\"trades\"])), [entry['trade_profit'] for entry in traderStats[\"trades\"]],\n",
    "            [entry['total_profit'] for entry in traderStats[\"trades\"]],\n",
    "            labels=[\"trades\", \"totalProfit\"])"
   ],
   "metadata": {
    "collapsed": false
   }
  },
  {
   "cell_type": "markdown",
   "source": [
    "## preprocessing th test data\n",
    "\n",
    "In this phase, the test data is loaded and preprocessed to prepare it for model testing. The test data used to assess whether the new model outperforms the old model spans from January 2023 to May 2023. It is important to note that this data has not been utilized for training any model. The data is reshaped to facilitate input for the new model in making predictions."
   ],
   "metadata": {
    "collapsed": false
   }
  },
  {
   "cell_type": "code",
   "execution_count": 9,
   "outputs": [],
   "source": [
    "testData = sh.get_table_as_df(\"test_data_model_v1_BTC_USDT\")\n",
    "testClose = testData[[\"close\"]]\n",
    "testData = testData.drop(columns=[\"close\", \"time_stamp\", \"index\"])"
   ],
   "metadata": {
    "collapsed": false
   }
  },
  {
   "cell_type": "markdown",
   "source": [],
   "metadata": {
    "collapsed": false
   }
  },
  {
   "cell_type": "code",
   "execution_count": 10,
   "outputs": [],
   "source": [
    "env = TradingEnvironment(testData, windowSize, testClose)\n",
    "states = env.allStates\n",
    "reshaped_input_data = np.transpose(env.allStates, (0, 1, 2))\n"
   ],
   "metadata": {
    "collapsed": false
   }
  },
  {
   "cell_type": "code",
   "execution_count": 11,
   "outputs": [
    {
     "name": "stdout",
     "output_type": "stream",
     "text": [
      "Model: \"sequential_1\"\n",
      "_________________________________________________________________\n",
      " Layer (type)                Output Shape              Param #   \n",
      "=================================================================\n",
      " dense_1 (Dense)             (None, 30, 128)           640       \n",
      "                                                                 \n",
      " dense_2 (Dense)             (None, 30, 64)            8256      \n",
      "                                                                 \n",
      " dense_3 (Dense)             (None, 30, 32)            2080      \n",
      "                                                                 \n",
      " reshape (Reshape)           (None, 960)               0         \n",
      "                                                                 \n",
      " dense_4 (Dense)             (None, 2)                 1922      \n",
      "                                                                 \n",
      "=================================================================\n",
      "Total params: 12,898\n",
      "Trainable params: 12,898\n",
      "Non-trainable params: 0\n",
      "_________________________________________________________________\n"
     ]
    }
   ],
   "source": [
    "model_to_test = load_model(retrainedModelName)\n",
    "model_to_test.summary()"
   ],
   "metadata": {
    "collapsed": false
   }
  },
  {
   "cell_type": "code",
   "execution_count": 12,
   "outputs": [
    {
     "name": "stdout",
     "output_type": "stream",
     "text": [
      "2187/2187 [==============================] - 19s 8ms/step\n"
     ]
    }
   ],
   "source": [
    "predictions = model_to_test.predict(reshaped_input_data)"
   ],
   "metadata": {
    "collapsed": false
   }
  },
  {
   "cell_type": "markdown",
   "source": [
    "To evaluate the model, the actions to be taken by the model are extracted into a dataframe. In this context, a prediction of 0 indicates a recommendation to buy the stock, while a prediction of 1 signifies a suggestion to sell the stock. Additionally, the ground truth, which represents the actual actions that should be taken, is extracted and organized into a dataframe. The ground truth is determined by comparing the current close price of the stock to the close price of the stock three steps into the future. If the price is higher, the corresponding action is 0, whereas if the price is lower, the action is 1. Subsequently, the predictions and the ground truth are compared to calculate the accuracy of the model."
   ],
   "metadata": {
    "collapsed": false
   }
  },
  {
   "cell_type": "code",
   "execution_count": 13,
   "outputs": [],
   "source": [
    "pred = pd.DataFrame([], columns=[\"pos_predictions\"])\n",
    "\n",
    "def make_action_pos_column(predictions):\n",
    "    action_pos = []\n",
    "    for i in range(len(predictions)):\n",
    "        if predictions[i][0] > predictions[i][1]:\n",
    "            action_pos.append(0)\n",
    "        else:\n",
    "            action_pos.append(1)\n",
    "    return action_pos\n",
    "\n",
    "pred[\"pos_predictions\"] = make_action_pos_column(predictions)"
   ],
   "metadata": {
    "collapsed": false
   }
  },
  {
   "cell_type": "code",
   "execution_count": 14,
   "outputs": [],
   "source": [
    "groundTruth = pd.DataFrame([], columns=[\"value\"])\n",
    "groundTruth[\"value\"] = testClose.pct_change(3).iloc[3:]\n",
    "\n",
    "# Convert 'value' column to a numeric data type\n",
    "groundTruth[\"value\"] = pd.to_numeric(groundTruth[\"value\"], errors='coerce')\n",
    "\n",
    "# Create a column 'action_pos' and use apply with a lambda function\n",
    "groundTruth['action_pos'] = groundTruth['value'].apply(lambda x: 0 if x > 0 else 1)"
   ],
   "metadata": {
    "collapsed": false
   }
  },
  {
   "cell_type": "code",
   "execution_count": 15,
   "outputs": [
    {
     "name": "stdout",
     "output_type": "stream",
     "text": [
      "Confusion Matrix:\n",
      "[[13468 21258]\n",
      " [14185 21060]]\n",
      "Accuracy: 0.4934615769390176\n"
     ]
    }
   ],
   "source": [
    "from sklearn.metrics import confusion_matrix, accuracy_score, precision_score, recall_score, f1_score\n",
    "from sklearn.metrics import confusion_matrix, accuracy_score, precision_score, recall_score, f1_score\n",
    "\n",
    "actual = groundTruth[[\"action_pos\"]][-len(pred):]\n",
    "predicted = pred[[\"pos_predictions\"]][-len(pred):]\n",
    "cm = confusion_matrix(actual, predicted)\n",
    "print(\"Confusion Matrix:\")\n",
    "print(cm)\n",
    "\n",
    "# Calculate the accuracy score\n",
    "accuracy = accuracy_score(actual, predicted)\n",
    "print(\"Accuracy:\", accuracy)\n",
    "\n",
    "# make a json file with the results\n",
    "newModelResults = {\n",
    "    \"accuracy\": accuracy,\n",
    "}\n",
    "# save the results to a json file and a s3 bucket\n",
    "with open('new_model_evaluation_results.json', 'w') as fp:\n",
    "    json.dump(newModelResults, fp)"
   ],
   "metadata": {
    "collapsed": false
   }
  },
  {
   "cell_type": "markdown",
   "source": [
    "# comparing curren to new model\n",
    "\n",
    "In the subsequent phase, the evaluation results of the current model are retrieved and compared to the results obtained from the new model. If the performance of the new model surpasses that of the current model, the new model is saved to the S3 bucket by overwriting the existing current model. This process ensures that the most effective and superior model is stored for future use."
   ],
   "metadata": {
    "collapsed": false
   }
  },
  {
   "cell_type": "markdown",
   "source": [],
   "metadata": {
    "collapsed": false
   }
  },
  {
   "cell_type": "code",
   "execution_count": 16,
   "outputs": [
    {
     "name": "stdout",
     "output_type": "stream",
     "text": [
      "New model is not better than the current model. Current model is kept.\n"
     ]
    }
   ],
   "source": [
    "if newModelResults['accuracy'] > currentEvaluationResults['accuracy']:\n",
    "    s3.upload_file(f'new_model_evaluation_results.json', conf.AWS_S3_ML_MODEL_BUCKET_NAME, f'best_model/best_evaluation_results.json')\n",
    "    s3.upload_file(f'{retrainedModelName}.h5', conf.AWS_S3_ML_MODEL_BUCKET_NAME, f'best_model/{retrainedModelName}.h5')\n",
    "    print(\"New model is better than the current model. \"\n",
    "          \"New model will be used to make trades.\")\n",
    "else:\n",
    "    print(\"New model is not better than the current model. Current model is kept.\")\n",
    "    # new model is saved to historical models folder\n",
    "    s3.upload_file(f'{retrainedModelName}', conf.AWS_S3_ML_MODEL_BUCKET_NAME, f'trained_models_history/dql_model_v1.h5')"
   ],
   "metadata": {
    "collapsed": false
   }
  }
 ],
 "metadata": {
  "kernelspec": {
   "display_name": "Python 3",
   "language": "python",
   "name": "python3"
  },
  "language_info": {
   "codemirror_mode": {
    "name": "ipython",
    "version": 2
   },
   "file_extension": ".py",
   "mimetype": "text/x-python",
   "name": "python",
   "nbconvert_exporter": "python",
   "pygments_lexer": "ipython2",
   "version": "2.7.6"
  }
 },
 "nbformat": 4,
 "nbformat_minor": 0
}
